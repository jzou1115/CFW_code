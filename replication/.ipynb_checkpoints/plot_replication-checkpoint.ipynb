{
 "cells": [
  {
   "cell_type": "code",
   "execution_count": 1,
   "metadata": {},
   "outputs": [],
   "source": [
    "import pandas as pd\n",
    "import numpy as np\n",
    "import matplotlib.pyplot as plt\n",
    "import seaborn as sns\n",
    "import glob\n",
    "import os\n",
    "import math\n",
    "from scipy.stats import norm\n",
    "from scipy.optimize import brentq\n",
    "import string\n",
    "from matplotlib.pyplot import figure\n",
    "import matplotlib.gridspec as gridspec"
   ]
  },
  {
   "cell_type": "code",
   "execution_count": 3,
   "metadata": {},
   "outputs": [],
   "source": [
    "keep_phenotypes =  list(pd.read_table(\"/u/home/j/jzou1115/project-zarlab/CFW/ResultsTables/PhenotypeSummary_keep_final.csv\", sep=\",\")[\"id\"])"
   ]
  },
  {
   "cell_type": "markdown",
   "metadata": {},
   "source": [
    "# OX1 and OX2 replication\n",
    " - load data from OX1 and OX2 splits to empirical distribution of difference in prediction"
   ]
  },
  {
   "cell_type": "code",
   "execution_count": 68,
   "metadata": {},
   "outputs": [
    {
     "name": "stdout",
     "output_type": "stream",
     "text": [
      "100\n"
     ]
    }
   ],
   "source": [
    "files = glob.glob(\"/u/home/j/jzou1115/project-zarlab/CFW/replication_pruned/output_ox1_ox2/*txt\")\n",
    "print(len(files))"
   ]
  },
  {
   "cell_type": "code",
   "execution_count": 69,
   "metadata": {},
   "outputs": [],
   "source": [
    "def parseModel(f):\n",
    "    d = open(f, \"r\")\n",
    "    lines = d.readlines()\n",
    "    d.close()\n",
    "    \n",
    "    true = float(lines[0])\n",
    "    wc = float(lines[1])\n",
    "    wcc = float(lines[2])\n",
    "    var_g = float(lines[3])\n",
    "    var_c1 = float(lines[4])\n",
    "    var_c2 = float(lines[5])\n",
    "    \n",
    "    return true, wc, wcc, var_g, var_c1, var_c2"
   ]
  },
  {
   "cell_type": "code",
   "execution_count": 70,
   "metadata": {},
   "outputs": [],
   "source": [
    "rep = {}\n",
    "rep[\"file\"] = []\n",
    "rep[\"rep_true\"] = []\n",
    "rep[\"rep_wc\"] = []\n",
    "rep[\"rep_wcc\"] = []\n",
    "rep[\"var_g\"] = []\n",
    "rep[\"var_c1\"] = []\n",
    "rep[\"var_c2\"] = []\n",
    "\n",
    "for f in files:\n",
    "    rep[\"file\"].append(f)\n",
    "    true, wc, wcc, var_g, var_c1, var_c2 = parseModel(f)\n",
    "    rep[\"rep_true\"].append(true)\n",
    "    rep[\"rep_wc\"].append(wc)\n",
    "    rep[\"rep_wcc\"].append(wcc)\n",
    "    rep[\"var_g\"].append(var_g)\n",
    "    rep[\"var_c1\"].append(var_c1)\n",
    "    rep[\"var_c2\"].append(var_c2)"
   ]
  },
  {
   "cell_type": "code",
   "execution_count": 71,
   "metadata": {},
   "outputs": [
    {
     "data": {
      "text/html": [
       "<div>\n",
       "<style scoped>\n",
       "    .dataframe tbody tr th:only-of-type {\n",
       "        vertical-align: middle;\n",
       "    }\n",
       "\n",
       "    .dataframe tbody tr th {\n",
       "        vertical-align: top;\n",
       "    }\n",
       "\n",
       "    .dataframe thead th {\n",
       "        text-align: right;\n",
       "    }\n",
       "</style>\n",
       "<table border=\"1\" class=\"dataframe\">\n",
       "  <thead>\n",
       "    <tr style=\"text-align: right;\">\n",
       "      <th></th>\n",
       "      <th>file</th>\n",
       "      <th>rep_true</th>\n",
       "      <th>rep_wc</th>\n",
       "      <th>rep_wcc</th>\n",
       "      <th>var_g</th>\n",
       "      <th>var_c1</th>\n",
       "      <th>var_c2</th>\n",
       "    </tr>\n",
       "  </thead>\n",
       "  <tbody>\n",
       "    <tr>\n",
       "      <th>0</th>\n",
       "      <td>/u/home/j/jzou1115/project-zarlab/CFW/replicat...</td>\n",
       "      <td>0.803922</td>\n",
       "      <td>0.680039</td>\n",
       "      <td>0.598196</td>\n",
       "      <td>0.0096</td>\n",
       "      <td>1.811509e-03</td>\n",
       "      <td>1.000000e-28</td>\n",
       "    </tr>\n",
       "    <tr>\n",
       "      <th>1</th>\n",
       "      <td>/u/home/j/jzou1115/project-zarlab/CFW/replicat...</td>\n",
       "      <td>0.862745</td>\n",
       "      <td>0.714378</td>\n",
       "      <td>0.714378</td>\n",
       "      <td>8.2800</td>\n",
       "      <td>1.000000e-28</td>\n",
       "      <td>1.000000e-28</td>\n",
       "    </tr>\n",
       "    <tr>\n",
       "      <th>2</th>\n",
       "      <td>/u/home/j/jzou1115/project-zarlab/CFW/replicat...</td>\n",
       "      <td>0.882353</td>\n",
       "      <td>0.684353</td>\n",
       "      <td>0.682242</td>\n",
       "      <td>7.5800</td>\n",
       "      <td>1.000000e-28</td>\n",
       "      <td>1.000000e-04</td>\n",
       "    </tr>\n",
       "    <tr>\n",
       "      <th>3</th>\n",
       "      <td>/u/home/j/jzou1115/project-zarlab/CFW/replicat...</td>\n",
       "      <td>0.784314</td>\n",
       "      <td>0.669483</td>\n",
       "      <td>0.667614</td>\n",
       "      <td>0.0097</td>\n",
       "      <td>2.855592e-05</td>\n",
       "      <td>1.000000e-28</td>\n",
       "    </tr>\n",
       "    <tr>\n",
       "      <th>4</th>\n",
       "      <td>/u/home/j/jzou1115/project-zarlab/CFW/replicat...</td>\n",
       "      <td>0.784314</td>\n",
       "      <td>0.725064</td>\n",
       "      <td>0.725064</td>\n",
       "      <td>8.8400</td>\n",
       "      <td>1.000000e-28</td>\n",
       "      <td>1.000000e-28</td>\n",
       "    </tr>\n",
       "  </tbody>\n",
       "</table>\n",
       "</div>"
      ],
      "text/plain": [
       "                                                file  rep_true    rep_wc  \\\n",
       "0  /u/home/j/jzou1115/project-zarlab/CFW/replicat...  0.803922  0.680039   \n",
       "1  /u/home/j/jzou1115/project-zarlab/CFW/replicat...  0.862745  0.714378   \n",
       "2  /u/home/j/jzou1115/project-zarlab/CFW/replicat...  0.882353  0.684353   \n",
       "3  /u/home/j/jzou1115/project-zarlab/CFW/replicat...  0.784314  0.669483   \n",
       "4  /u/home/j/jzou1115/project-zarlab/CFW/replicat...  0.784314  0.725064   \n",
       "\n",
       "    rep_wcc   var_g        var_c1        var_c2  \n",
       "0  0.598196  0.0096  1.811509e-03  1.000000e-28  \n",
       "1  0.714378  8.2800  1.000000e-28  1.000000e-28  \n",
       "2  0.682242  7.5800  1.000000e-28  1.000000e-04  \n",
       "3  0.667614  0.0097  2.855592e-05  1.000000e-28  \n",
       "4  0.725064  8.8400  1.000000e-28  1.000000e-28  "
      ]
     },
     "execution_count": 71,
     "metadata": {},
     "output_type": "execute_result"
    }
   ],
   "source": [
    "rep = pd.DataFrame(rep)\n",
    "rep.head()"
   ]
  },
  {
   "cell_type": "code",
   "execution_count": 72,
   "metadata": {},
   "outputs": [],
   "source": [
    "rep = rep.sort_values(by=\"var_c1\", ascending=False)"
   ]
  },
  {
   "cell_type": "code",
   "execution_count": 73,
   "metadata": {},
   "outputs": [],
   "source": [
    "def wc(var_g, n1, n2):\n",
    "    slope_noConfounding = (math.sqrt(n1*n2)*var_g)/(1+n1*var_g)\n",
    "    sd_noConfounding = math.sqrt(n2*var_g+1-((n1*n2*var_g*var_g)/(n1*var_g+1)))\n",
    "    return slope_noConfounding, sd_noConfounding\n",
    "\n",
    "def wcc(var_g, var_c1, var_c2, n1, n2):\n",
    "    slope = (math.sqrt(n1*n2)*var_g)/(1+n1*var_g+n1*var_c1)\n",
    "    sd = math.sqrt(n2*var_g+n2*var_c2+1-((n1*n2*var_g*var_g)/(n1*var_g+n1*var_c1+1)))\n",
    "    return slope, sd"
   ]
  },
  {
   "cell_type": "code",
   "execution_count": 74,
   "metadata": {},
   "outputs": [],
   "source": [
    "n1 = 1036\n",
    "n2 = 1037"
   ]
  },
  {
   "cell_type": "code",
   "execution_count": 75,
   "metadata": {},
   "outputs": [],
   "source": [
    "slope_wc = []\n",
    "sd_wc = []\n",
    "slope_wcc=[]\n",
    "sd_wcc=[]\n",
    "for i in rep.index:\n",
    "    var_g = rep.loc[i, \"var_g\"]\n",
    "    var_c1 = rep.loc[i, \"var_c1\"]\n",
    "    var_c2 = rep.loc[i, \"var_c2\"]\n",
    "    slope_noConfounding, sd_noConfounding = wc(var_g, n1, n2)\n",
    "    slope, sd = wcc(var_g, var_c1, var_c2, n1, n2)\n",
    "    slope_wc.append(slope_noConfounding)\n",
    "    sd_wc.append(sd_noConfounding)\n",
    "    slope_wcc.append(slope)\n",
    "    sd_wcc.append(sd)\n",
    "rep[\"slope_wc\"] = slope_wc\n",
    "rep[\"sd_wc\"] = sd_wc\n",
    "rep[\"slope_wcc\"] = slope_wcc\n",
    "rep[\"sd_wcc\"] = sd_wcc\n"
   ]
  },
  {
   "cell_type": "code",
   "execution_count": 76,
   "metadata": {},
   "outputs": [],
   "source": [
    "rep[\"diff\"] = rep[\"slope_wc\"] - rep[\"slope_wcc\"]"
   ]
  },
  {
   "cell_type": "code",
   "execution_count": 77,
   "metadata": {},
   "outputs": [],
   "source": [
    "def computeVarExpWCC(var_g, var_c1, n1):\n",
    "    return (n1*var_c1)/ (1+n1*var_g+n1*var_c1)\n"
   ]
  },
  {
   "cell_type": "code",
   "execution_count": 78,
   "metadata": {},
   "outputs": [
    {
     "data": {
      "text/plain": [
       "count    1.000000e+02\n",
       "mean     2.778252e-02\n",
       "std      4.213786e-02\n",
       "min      1.114707e-29\n",
       "25%      1.181557e-29\n",
       "50%      1.345840e-29\n",
       "75%      4.579514e-02\n",
       "max      1.603813e-01\n",
       "Name: exp_c1, dtype: float64"
      ]
     },
     "execution_count": 78,
     "metadata": {},
     "output_type": "execute_result"
    }
   ],
   "source": [
    "exp_c1 = [] # variance explained by confounding\n",
    "for i in rep.index:\n",
    "    var_g = rep.loc[i, \"var_g\"]\n",
    "    var_c1 = rep.loc[i, \"var_c1\"]\n",
    "    exp_c1.append(computeVarExpWCC(var_g, var_c1, n1))\n",
    "rep[\"exp_c1\"] = exp_c1\n",
    "rep[\"exp_c1\"].describe()"
   ]
  },
  {
   "cell_type": "code",
   "execution_count": 79,
   "metadata": {},
   "outputs": [],
   "source": [
    "rep[\"diff_pred\"] = rep[\"rep_true\"] - rep[\"rep_wc\"]"
   ]
  },
  {
   "cell_type": "code",
   "execution_count": 80,
   "metadata": {},
   "outputs": [],
   "source": [
    "rep[\"diff_pred_wcc\"] = rep[\"rep_true\"] - rep[\"rep_wcc\"]"
   ]
  },
  {
   "cell_type": "markdown",
   "metadata": {},
   "source": [
    "# ox vs uc"
   ]
  },
  {
   "cell_type": "code",
   "execution_count": 50,
   "metadata": {},
   "outputs": [
    {
     "name": "stdout",
     "output_type": "stream",
     "text": [
      "9\n"
     ]
    }
   ],
   "source": [
    "files = glob.glob(\"/u/home/j/jzou1115/project-zarlab/CFW/replication_pruned/output_phenotypes_pooled_2/*_ox_uc_sub_model_out_truncatedGaussian.txt\")\n",
    "print(len(files))"
   ]
  },
  {
   "cell_type": "code",
   "execution_count": 51,
   "metadata": {},
   "outputs": [],
   "source": [
    "ox_uc = {}\n",
    "ox_uc[\"file\"] = []\n",
    "ox_uc[\"rep_true\"] = []\n",
    "ox_uc[\"rep_wc\"] = []\n",
    "ox_uc[\"rep_wcc\"] = []\n",
    "ox_uc[\"var_g\"] = []\n",
    "ox_uc[\"var_c1\"] = []\n",
    "ox_uc[\"var_c2\"] = []\n",
    "\n",
    "for f in files:\n",
    "    ox_uc[\"file\"].append(f)\n",
    "    true, wc, wcc, var_g, var_c1, var_c2 = parseModel(f)\n",
    "    ox_uc[\"rep_true\"].append(true)\n",
    "    ox_uc[\"rep_wc\"].append(wc)\n",
    "    ox_uc[\"rep_wcc\"].append(wcc)\n",
    "    ox_uc[\"var_g\"].append(var_g)\n",
    "    ox_uc[\"var_c1\"].append(var_c1)\n",
    "    ox_uc[\"var_c2\"].append(var_c2)\n",
    "    \n"
   ]
  },
  {
   "cell_type": "code",
   "execution_count": 52,
   "metadata": {},
   "outputs": [
    {
     "data": {
      "text/html": [
       "<div>\n",
       "<style scoped>\n",
       "    .dataframe tbody tr th:only-of-type {\n",
       "        vertical-align: middle;\n",
       "    }\n",
       "\n",
       "    .dataframe tbody tr th {\n",
       "        vertical-align: top;\n",
       "    }\n",
       "\n",
       "    .dataframe thead th {\n",
       "        text-align: right;\n",
       "    }\n",
       "</style>\n",
       "<table border=\"1\" class=\"dataframe\">\n",
       "  <thead>\n",
       "    <tr style=\"text-align: right;\">\n",
       "      <th></th>\n",
       "      <th>file</th>\n",
       "      <th>rep_true</th>\n",
       "      <th>rep_wc</th>\n",
       "      <th>rep_wcc</th>\n",
       "      <th>var_g</th>\n",
       "      <th>var_c1</th>\n",
       "      <th>var_c2</th>\n",
       "      <th>phenotype</th>\n",
       "    </tr>\n",
       "  </thead>\n",
       "  <tbody>\n",
       "    <tr>\n",
       "      <th>0</th>\n",
       "      <td>/u/home/j/jzou1115/project-zarlab/CFW/replicat...</td>\n",
       "      <td>0.666667</td>\n",
       "      <td>0.920016</td>\n",
       "      <td>0.653755</td>\n",
       "      <td>0.0102</td>\n",
       "      <td>4.077899e-03</td>\n",
       "      <td>1.000000e-28</td>\n",
       "      <td>TA</td>\n",
       "    </tr>\n",
       "    <tr>\n",
       "      <th>1</th>\n",
       "      <td>/u/home/j/jzou1115/project-zarlab/CFW/replicat...</td>\n",
       "      <td>0.666667</td>\n",
       "      <td>0.950631</td>\n",
       "      <td>0.572215</td>\n",
       "      <td>0.0093</td>\n",
       "      <td>1.158974e-02</td>\n",
       "      <td>1.000000e-28</td>\n",
       "      <td>soleus</td>\n",
       "    </tr>\n",
       "    <tr>\n",
       "      <th>2</th>\n",
       "      <td>/u/home/j/jzou1115/project-zarlab/CFW/replicat...</td>\n",
       "      <td>0.500000</td>\n",
       "      <td>0.870381</td>\n",
       "      <td>0.461439</td>\n",
       "      <td>0.0053</td>\n",
       "      <td>7.123581e-03</td>\n",
       "      <td>1.000000e-28</td>\n",
       "      <td>gastroc</td>\n",
       "    </tr>\n",
       "    <tr>\n",
       "      <th>3</th>\n",
       "      <td>/u/home/j/jzou1115/project-zarlab/CFW/replicat...</td>\n",
       "      <td>1.000000</td>\n",
       "      <td>0.916228</td>\n",
       "      <td>0.916228</td>\n",
       "      <td>22.9100</td>\n",
       "      <td>1.000000e-28</td>\n",
       "      <td>1.000000e-28</td>\n",
       "      <td>EDL</td>\n",
       "    </tr>\n",
       "    <tr>\n",
       "      <th>4</th>\n",
       "      <td>/u/home/j/jzou1115/project-zarlab/CFW/replicat...</td>\n",
       "      <td>0.500000</td>\n",
       "      <td>0.942070</td>\n",
       "      <td>0.719341</td>\n",
       "      <td>0.0200</td>\n",
       "      <td>8.112078e-03</td>\n",
       "      <td>1.000000e-28</td>\n",
       "      <td>bmd</td>\n",
       "    </tr>\n",
       "  </tbody>\n",
       "</table>\n",
       "</div>"
      ],
      "text/plain": [
       "                                                file  rep_true    rep_wc  \\\n",
       "0  /u/home/j/jzou1115/project-zarlab/CFW/replicat...  0.666667  0.920016   \n",
       "1  /u/home/j/jzou1115/project-zarlab/CFW/replicat...  0.666667  0.950631   \n",
       "2  /u/home/j/jzou1115/project-zarlab/CFW/replicat...  0.500000  0.870381   \n",
       "3  /u/home/j/jzou1115/project-zarlab/CFW/replicat...  1.000000  0.916228   \n",
       "4  /u/home/j/jzou1115/project-zarlab/CFW/replicat...  0.500000  0.942070   \n",
       "\n",
       "    rep_wcc    var_g        var_c1        var_c2 phenotype  \n",
       "0  0.653755   0.0102  4.077899e-03  1.000000e-28        TA  \n",
       "1  0.572215   0.0093  1.158974e-02  1.000000e-28    soleus  \n",
       "2  0.461439   0.0053  7.123581e-03  1.000000e-28   gastroc  \n",
       "3  0.916228  22.9100  1.000000e-28  1.000000e-28       EDL  \n",
       "4  0.719341   0.0200  8.112078e-03  1.000000e-28       bmd  "
      ]
     },
     "execution_count": 52,
     "metadata": {},
     "output_type": "execute_result"
    }
   ],
   "source": [
    "ox_uc = pd.DataFrame(ox_uc)\n",
    "phenotypes = [f.split(\"/\")[-1].split(\"_\")[0] for f in ox_uc[\"file\"]]\n",
    "ox_uc[\"phenotype\"] = phenotypes\n",
    "ox_uc.head()\n"
   ]
  },
  {
   "cell_type": "code",
   "execution_count": 53,
   "metadata": {},
   "outputs": [
    {
     "data": {
      "text/html": [
       "<div>\n",
       "<style scoped>\n",
       "    .dataframe tbody tr th:only-of-type {\n",
       "        vertical-align: middle;\n",
       "    }\n",
       "\n",
       "    .dataframe tbody tr th {\n",
       "        vertical-align: top;\n",
       "    }\n",
       "\n",
       "    .dataframe thead th {\n",
       "        text-align: right;\n",
       "    }\n",
       "</style>\n",
       "<table border=\"1\" class=\"dataframe\">\n",
       "  <thead>\n",
       "    <tr style=\"text-align: right;\">\n",
       "      <th></th>\n",
       "      <th>Phenotype name</th>\n",
       "      <th>Category</th>\n",
       "      <th>Description</th>\n",
       "      <th>OX</th>\n",
       "      <th>UC</th>\n",
       "      <th>id</th>\n",
       "      <th>Category2</th>\n",
       "    </tr>\n",
       "    <tr>\n",
       "      <th>id</th>\n",
       "      <th></th>\n",
       "      <th></th>\n",
       "      <th></th>\n",
       "      <th></th>\n",
       "      <th></th>\n",
       "      <th></th>\n",
       "      <th></th>\n",
       "    </tr>\n",
       "  </thead>\n",
       "  <tbody>\n",
       "    <tr>\n",
       "      <th>tail.length</th>\n",
       "      <td>tail length</td>\n",
       "      <td>morphology</td>\n",
       "      <td>Tail length (cm)</td>\n",
       "      <td>1549</td>\n",
       "      <td>1053</td>\n",
       "      <td>tail.length</td>\n",
       "      <td>morphology</td>\n",
       "    </tr>\n",
       "    <tr>\n",
       "      <th>habit.ratio</th>\n",
       "      <td>startle habituation ratio</td>\n",
       "      <td>prepulse inhibition</td>\n",
       "      <td>Habituation (calculated as ratio of reduction ...</td>\n",
       "      <td>1682</td>\n",
       "      <td>824</td>\n",
       "      <td>habit.ratio</td>\n",
       "      <td>behavior</td>\n",
       "    </tr>\n",
       "    <tr>\n",
       "      <th>habit.diff</th>\n",
       "      <td>startle habituation difference</td>\n",
       "      <td>prepulse inhibition</td>\n",
       "      <td>Habituation (calculated as difference first to...</td>\n",
       "      <td>1703</td>\n",
       "      <td>983</td>\n",
       "      <td>habit.diff</td>\n",
       "      <td>behavior</td>\n",
       "    </tr>\n",
       "    <tr>\n",
       "      <th>startle</th>\n",
       "      <td>startle</td>\n",
       "      <td>prepulse inhibition</td>\n",
       "      <td>Startle</td>\n",
       "      <td>1706</td>\n",
       "      <td>962</td>\n",
       "      <td>startle</td>\n",
       "      <td>behavior</td>\n",
       "    </tr>\n",
       "    <tr>\n",
       "      <th>pp6.ppi</th>\n",
       "      <td>PPI with +6db prepulse</td>\n",
       "      <td>prepulse inhibition</td>\n",
       "      <td>PPI with +6db prepulse</td>\n",
       "      <td>1720</td>\n",
       "      <td>936</td>\n",
       "      <td>pp6.ppi</td>\n",
       "      <td>behavior</td>\n",
       "    </tr>\n",
       "  </tbody>\n",
       "</table>\n",
       "</div>"
      ],
      "text/plain": [
       "                             Phenotype name             Category  \\\n",
       "id                                                                 \n",
       "tail.length                     tail length           morphology   \n",
       "habit.ratio       startle habituation ratio  prepulse inhibition   \n",
       "habit.diff   startle habituation difference  prepulse inhibition   \n",
       "startle                             startle  prepulse inhibition   \n",
       "pp6.ppi              PPI with +6db prepulse  prepulse inhibition   \n",
       "\n",
       "                                                   Description    OX    UC  \\\n",
       "id                                                                           \n",
       "tail.length                                   Tail length (cm)  1549  1053   \n",
       "habit.ratio  Habituation (calculated as ratio of reduction ...  1682   824   \n",
       "habit.diff   Habituation (calculated as difference first to...  1703   983   \n",
       "startle                                                Startle  1706   962   \n",
       "pp6.ppi                                 PPI with +6db prepulse  1720   936   \n",
       "\n",
       "                      id   Category2  \n",
       "id                                    \n",
       "tail.length  tail.length  morphology  \n",
       "habit.ratio  habit.ratio    behavior  \n",
       "habit.diff    habit.diff    behavior  \n",
       "startle          startle    behavior  \n",
       "pp6.ppi          pp6.ppi    behavior  "
      ]
     },
     "execution_count": 53,
     "metadata": {},
     "output_type": "execute_result"
    }
   ],
   "source": [
    "meta = pd.read_table(\"/u/home/j/jzou1115/project-zarlab/CFW/ResultsTables/PhenotypeSummary_keep_final.csv\", sep=\",\")\n",
    "meta.index = meta[\"id\"]\n",
    "meta.head()"
   ]
  },
  {
   "cell_type": "code",
   "execution_count": 54,
   "metadata": {},
   "outputs": [],
   "source": [
    "ox_uc = ox_uc[ox_uc[\"phenotype\"].isin(meta[\"id\"])]"
   ]
  },
  {
   "cell_type": "code",
   "execution_count": 55,
   "metadata": {},
   "outputs": [],
   "source": [
    "ox_n = []\n",
    "uc_n = []\n",
    "for i in ox_uc.index:\n",
    "    p = ox_uc.loc[i, \"phenotype\"]\n",
    "    n1 = meta.loc[p, \"OX\"]\n",
    "    n2 = meta.loc[p, \"UC\"]\n",
    "    ox_n.append(n1)\n",
    "    uc_n.append(n2)\n",
    "ox_uc[\"n1\"] = ox_n\n",
    "ox_uc[\"n2\"] = uc_n"
   ]
  },
  {
   "cell_type": "code",
   "execution_count": 56,
   "metadata": {},
   "outputs": [],
   "source": [
    "col = meta.columns[0]\n",
    "phenotype2 = []\n",
    "for i in ox_uc.index:\n",
    "    p = ox_uc.loc[i, \"phenotype\"]\n",
    "    p2 = meta.loc[p, col]\n",
    "    phenotype2.append(p2)\n",
    "ox_uc[\"phenotype2\"] = phenotype2"
   ]
  },
  {
   "cell_type": "code",
   "execution_count": 57,
   "metadata": {},
   "outputs": [],
   "source": [
    "# compute difference in true and explained replication in OX vs UC models\n",
    "def wc(var_g, n1, n2):\n",
    "    slope_noConfounding = (math.sqrt(n1*n2)*var_g)/(1+n1*var_g)\n",
    "    sd_noConfounding = math.sqrt(n2*var_g+1-((n1*n2*var_g*var_g)/(n1*var_g+1)))\n",
    "    return slope_noConfounding, sd_noConfounding\n",
    "\n",
    "def wcc(var_g, var_c1, var_c2, n1, n2):\n",
    "    slope = (math.sqrt(n1*n2)*var_g)/(1+n1*var_g+n1*var_c1)\n",
    "    sd = math.sqrt(n2*var_g+n2*var_c2+1-((n1*n2*var_g*var_g)/(n1*var_g+n1*var_c1+1)))\n",
    "    return slope, sd\n",
    "\n",
    "slope_wc = []\n",
    "sd_wc = []\n",
    "slope_wcc=[]\n",
    "sd_wcc=[]\n",
    "for i in ox_uc.index:\n",
    "    var_g = ox_uc.loc[i, \"var_g\"]\n",
    "    var_c1 = ox_uc.loc[i, \"var_c1\"]\n",
    "    var_c2 = ox_uc.loc[i, \"var_c2\"]\n",
    "    n1 = ox_uc.loc[i, \"n1\"]\n",
    "    n2 = ox_uc.loc[i, \"n2\"]\n",
    "    \n",
    "    slope_noConfounding, sd_noConfounding = wc(var_g, n1, n2)\n",
    "    slope, sd = wcc(var_g, var_c1, var_c2, n1, n2)\n",
    "    slope_wc.append(slope_noConfounding)\n",
    "    sd_wc.append(sd_noConfounding)\n",
    "    slope_wcc.append(slope)\n",
    "    sd_wcc.append(sd)\n",
    "\n",
    "ox_uc[\"slope_wc\"] = slope_wc\n",
    "ox_uc[\"sd_wc\"] = sd_wc\n",
    "ox_uc[\"slope_wcc\"] = slope_wcc\n",
    "ox_uc[\"sd_wcc\"] = sd_wcc\n",
    "\n",
    "ox_uc[\"diff\"] = ox_uc[\"slope_wc\"] - ox_uc[\"slope_wcc\"]"
   ]
  },
  {
   "cell_type": "code",
   "execution_count": 58,
   "metadata": {},
   "outputs": [],
   "source": [
    "def computePval(diff, null):\n",
    "    count = 0\n",
    "    for p in null:\n",
    "        if p > diff:\n",
    "            count += 1\n",
    "    return count*1.0/len(null)"
   ]
  },
  {
   "cell_type": "code",
   "execution_count": 59,
   "metadata": {},
   "outputs": [],
   "source": [
    "diff_pval = []\n",
    "for i in ox_uc.index:\n",
    "    diff = ox_uc.loc[i, \"diff\"]\n",
    "    p = computePval(diff, rep[\"diff\"])\n",
    "    diff_pval.append(p)\n",
    "ox_uc[\"diff_pval\"] = diff_pval"
   ]
  },
  {
   "cell_type": "code",
   "execution_count": 60,
   "metadata": {},
   "outputs": [
    {
     "data": {
      "text/plain": [
       "count    9.000000e+00\n",
       "mean     3.638129e-01\n",
       "std      1.939194e-01\n",
       "min      4.364802e-30\n",
       "25%      2.750701e-01\n",
       "50%      3.458203e-01\n",
       "75%      5.406774e-01\n",
       "max      5.922671e-01\n",
       "Name: exp_c1, dtype: float64"
      ]
     },
     "execution_count": 60,
     "metadata": {},
     "output_type": "execute_result"
    }
   ],
   "source": [
    "\n",
    "exp_c1 = [] # variance explained by confounding\n",
    "for i in ox_uc.index:\n",
    "    var_g = ox_uc.loc[i, \"var_g\"]\n",
    "    var_c1 = ox_uc.loc[i, \"var_c1\"]\n",
    "    n1 = ox_uc.loc[i, \"n1\"]\n",
    "    n2 = ox_uc.loc[i, \"n2\"]\n",
    "    exp_c1.append(computeVarExpWCC(var_g, var_c1, n1))\n",
    "ox_uc[\"exp_c1\"] = exp_c1\n",
    "ox_uc[\"exp_c1\"].describe()"
   ]
  },
  {
   "cell_type": "code",
   "execution_count": 61,
   "metadata": {},
   "outputs": [
    {
     "data": {
      "text/plain": [
       "count    9.000000\n",
       "mean    -0.278540\n",
       "std      0.157228\n",
       "min     -0.442070\n",
       "25%     -0.370381\n",
       "50%     -0.283964\n",
       "75%     -0.243398\n",
       "max      0.083772\n",
       "Name: diff_pred, dtype: float64"
      ]
     },
     "execution_count": 61,
     "metadata": {},
     "output_type": "execute_result"
    }
   ],
   "source": [
    "ox_uc[\"diff_pred\"] = ox_uc[\"rep_true\"] - ox_uc[\"rep_wc\"]\n",
    "ox_uc[\"diff_pred\"].describe()"
   ]
  },
  {
   "cell_type": "code",
   "execution_count": 62,
   "metadata": {},
   "outputs": [],
   "source": [
    "ox_uc_pheno = ox_uc\n",
    "ox_uc_pheno[\"diff_pred_wcc\"] = ox_uc_pheno[\"rep_true\"] - ox_uc_pheno[\"rep_wcc\"]"
   ]
  },
  {
   "cell_type": "code",
   "execution_count": 63,
   "metadata": {},
   "outputs": [],
   "source": [
    "sorter=[\"EDL\", \"tibia\", \"TA\", \"BMD\", \"total locomotor activity\", \"locomotor activity initial\", \"soleus\", \"gastroc\", \"locomotor activity end\"]\n",
    "sorterIndex = dict(zip(sorter, range(len(sorter))))\n",
    "ox_uc_pheno['Pheno_Rank'] = ox_uc_pheno['phenotype2'].map(sorterIndex)"
   ]
  },
  {
   "cell_type": "code",
   "execution_count": 83,
   "metadata": {},
   "outputs": [],
   "source": [
    "ox_uc_pheno = ox_uc_pheno.sort_values(['Pheno_Rank'],\n",
    "        ascending = True)\n",
    "ox_uc_pheno = ox_uc_pheno.sort_values(by=\"diff_pred\")\n",
    "\n",
    "sd = np.std(rep[\"diff_pred\"]) #empirical distribution from OX1 vs OX2 splits"
   ]
  },
  {
   "cell_type": "code",
   "execution_count": 88,
   "metadata": {},
   "outputs": [],
   "source": [
    "#data from replication power simulations\n",
    "\n",
    "out = pd.read_table(\"/u/home/j/jzou1115/project-zarlab/CFW/replication_simulations/summary/replication_summary_simulations.txt\")\n",
    "out = out[out[\"sample_size\"]<=2000]\n",
    "power = []\n",
    "threshold = 5.787229 #OX logp threshold\n",
    "p = 10**-threshold\n",
    "c = abs(norm.ppf(p/2)) #statistic threshold\n",
    "for i in out.index:\n",
    "    l = out.loc[i, \"effect_size\"]\n",
    "    n = out.loc[i, \"sample_size\"]\n",
    "    \n",
    "    po = 1 - norm.cdf(c, loc = l*np.sqrt(n), scale = 1)\n",
    "    power.append(po)\n",
    "\n",
    "out[\"power\"] = power\n",
    "\n",
    "table2 = pd.pivot_table(out, values='power', index=['effect_size'],\n",
    "                    columns=['sample_size'], aggfunc=np.sum)\n",
    "table = pd.pivot_table(out, values='diff', index=['effect_size'],\n",
    "                    columns=['sample_size'], aggfunc=np.sum)\n",
    "\n",
    "effect_sizes = [0.1, 0.11, 0.12, 0.13, 0.14, 0.15, 0.16, 0.17, 0.18, 0.19, 0.2]\n",
    "sample_sizes = [1000, 1500, 2000]\n",
    "outdir=\"/u/home/j/jzou1115/project-zarlab/CFW/replication_simulations/wcrep_out/\"\n",
    "data = {}\n",
    "data[\"effect_size\"] = []\n",
    "data[\"sample_size\"] = []\n",
    "data[\"observed\"] = []\n",
    "data[\"expected\"] = []\n",
    "\n",
    "for l in effect_sizes:\n",
    "    for n in sample_sizes:\n",
    "        f = os.path.join(outdir, \"sim_\"+ str(n)+ \"_\"+ str(l)+ \".txt\")\n",
    "        d = pd.read_table(f, header=None)\n",
    "        data[\"effect_size\"].append(l)\n",
    "        data[\"sample_size\"].append(n)\n",
    "        data[\"observed\"].append(d.loc[0, 0])\n",
    "        data[\"expected\"].append(d.loc[1, 0])\n",
    "data = pd.DataFrame(data)\n",
    "data[\"diff\"] = data[\"observed\"] - data[\"expected\"]\n",
    "table3 = pd.pivot_table(data, values='diff', index=['effect_size'],\n",
    "                    columns=['sample_size'], aggfunc=np.sum)\n",
    "table3 = table.round(2)\n",
    "power = []\n",
    "for i in data.index:\n",
    "    l = data.loc[i, \"effect_size\"]\n",
    "    n = data.loc[i, \"sample_size\"]\n",
    "    \n",
    "    po = 1 - norm.cdf(c, loc = l*np.sqrt(n), scale = 1)\n",
    "    power.append(po)\n",
    "data[\"power\"] = power\n"
   ]
  },
  {
   "cell_type": "code",
   "execution_count": 89,
   "metadata": {},
   "outputs": [
    {
     "name": "stdout",
     "output_type": "stream",
     "text": [
      "9\n"
     ]
    }
   ],
   "source": [
    "# variance explained in OX vs UC models\n",
    "keep_phenotypes =  list(pd.read_table(\"/u/home/j/jzou1115/project-zarlab/CFW/ResultsTables/PhenotypeSummary_keep_final.csv\", sep=\",\")[\"id\"])\n",
    "def parseModel(f):\n",
    "    d = open(f, \"r\")\n",
    "    lines = d.readlines()\n",
    "    d.close()\n",
    "    \n",
    "    true = float(lines[0])\n",
    "    wc = float(lines[1])\n",
    "    wcc = float(lines[2])\n",
    "    var_g = float(lines[3])\n",
    "    var_c1 = float(lines[4])\n",
    "    var_c2 = float(lines[5])\n",
    "    var_s1 = float(lines[6])\n",
    "    \n",
    "    return true, wc, wcc, var_g, var_c1, var_c2, var_s1\n",
    "files = glob.glob(\"/u/home/j/jzou1115/project-zarlab/CFW/replication_pruned/output_phenotypes_pooled_2/*_ox_uc_sub_model_out_truncatedGaussian.txt\")\n",
    "#files = glob.glob(\"/u/home/j/jzou1115/project-zarlab/CFW/replication_pruned/output_phenotypes_pooled_2/*_ox_uc_sub_model_out.txt\")\n",
    "print(len(files))\n",
    "\n",
    "rep = {}\n",
    "rep[\"file\"] = []\n",
    "rep[\"rep_true\"] = []\n",
    "rep[\"rep_wc\"] = []\n",
    "rep[\"rep_wcc\"] = []\n",
    "rep[\"var_g\"] = []\n",
    "rep[\"var_c1\"] = []\n",
    "rep[\"var_c2\"] = []\n",
    "rep[\"var_s1\"] = []\n",
    "\n",
    "for f in files:\n",
    "    rep[\"file\"].append(f)\n",
    "    true, wc, wcc, var_g, var_c1, var_c2, var_s1 = parseModel(f)\n",
    "    rep[\"rep_true\"].append(true)\n",
    "    rep[\"rep_wc\"].append(wc)\n",
    "    rep[\"rep_wcc\"].append(wcc)\n",
    "    rep[\"var_g\"].append(var_g)\n",
    "    rep[\"var_c1\"].append(var_c1)\n",
    "    rep[\"var_c2\"].append(var_c2)\n",
    "    rep[\"var_s1\"].append(var_s1)\n",
    "    \n",
    "rep = pd.DataFrame(rep)\n",
    "rep.head()\n",
    "rep[\"phenotype\"] = [ rep.loc[i, \"file\"].split(\"/\")[-1].split(\"_\")[0] for i in rep.index]\n",
    "rep = rep[rep[\"phenotype\"].isin(keep_phenotypes)]\n",
    "meta = pd.read_table(\"/u/home/j/jzou1115/project-zarlab/CFW/ResultsTables/PhenotypeSummary_keep_final.csv\", sep=\",\")\n",
    "meta.index = meta[\"id\"]\n",
    "meta.head()\n",
    "ox_n = []\n",
    "uc_n = []\n",
    "for i in rep.index:\n",
    "    p = rep.loc[i, \"phenotype\"]\n",
    "    n1 = meta.loc[p, \"OX\"]\n",
    "    n2 = meta.loc[p, \"UC\"]\n",
    "    ox_n.append(n1)\n",
    "    uc_n.append(n2)\n",
    "rep[\"n1\"] = ox_n\n",
    "rep[\"n2\"] = uc_n\n",
    "col = meta.columns[0]\n",
    "phenotype2 = []\n",
    "for i in rep.index:\n",
    "    p = rep.loc[i, \"phenotype\"]\n",
    "    p2 = meta.loc[p, col]\n",
    "    phenotype2.append(p2)\n",
    "rep[\"phenotype2\"] = phenotype2\n",
    "rep[\"var_exp_c1\"] = rep[\"var_c1\"]*rep[\"n1\"] / rep[\"var_s1\"]\n",
    "rep[\"var_exp_g\"] =  (rep[\"var_s1\"] - 1 - rep[\"var_c1\"]*rep[\"n1\"] ) / rep[\"var_s1\"]\n",
    "rep = rep.sort_values(by=\"var_exp_c1\")\n",
    "plot_data = {}\n",
    "plot_data[\"phenotype2\"] = []\n",
    "plot_data[\"var_exp\"] = []\n",
    "plot_data[\"Variance Explained\"] = []\n",
    "\n",
    "for i in rep.index:\n",
    "    p = rep.loc[i, \"phenotype2\"]\n",
    "    v_c1 = rep.loc[i, \"var_exp_c1\"]\n",
    "    v_g = rep.loc[i, \"var_exp_g\"] \n",
    "    plot_data[\"phenotype2\"].append(p)\n",
    "    plot_data[\"var_exp\"].append(v_c1)\n",
    "    plot_data[\"Variance Explained\"].append(\"Confounding\")\n",
    "    \n",
    "    plot_data[\"phenotype2\"].append(p)\n",
    "    plot_data[\"var_exp\"].append(v_g)\n",
    "    plot_data[\"Variance Explained\"].append(\"Genetics\")\n",
    "    \n",
    "plot_data = pd.DataFrame(plot_data)\n"
   ]
  },
  {
   "cell_type": "code",
   "execution_count": 90,
   "metadata": {},
   "outputs": [
    {
     "data": {
      "image/png": "[encoded data removed]",
      "text/plain": [
       "<Figure size 1152x864 with 3 Axes>"
      ]
     },
     "metadata": {
      "needs_background": "light"
     },
     "output_type": "display_data"
    }
   ],
   "source": [
    "SMALL_SIZE = 14\n",
    "MEDIUM_SIZE = 16\n",
    "BIGGER_SIZE = 20\n",
    "\n",
    "plt.rc('font', size=SMALL_SIZE)          # controls default text sizes\n",
    "plt.rc('axes', titlesize=SMALL_SIZE)     # fontsize of the axes title\n",
    "plt.rc('axes', labelsize=MEDIUM_SIZE)    # fontsize of the x and y labels\n",
    "plt.rc('xtick', labelsize=SMALL_SIZE)    # fontsize of the tick labels\n",
    "plt.rc('ytick', labelsize=SMALL_SIZE)    # fontsize of the tick labels\n",
    "plt.rc('legend', fontsize=SMALL_SIZE)    # legend fontsize\n",
    "plt.rc('figure', titlesize=BIGGER_SIZE)  # fontsize of the figure title\n",
    "\n",
    "fig = plt.figure(figsize=(16, 12))\n",
    "gs = gridspec.GridSpec(2, 2)\n",
    "ax1 = fig.add_subplot(gs[0, 0])\n",
    "ax2 = fig.add_subplot(gs[1, 0], sharex=ax1)\n",
    "ax3 = fig.add_subplot(gs[:, 1])\n",
    "\n",
    "## Define plot space\n",
    "#fig, (ax, ax2) = plt.subplots(2, 1, figsize=(12, 12), sharex=True)\n",
    "ax1.text(-2.5, .2, \"A\", size=20, weight='bold')\n",
    "ax1.scatter(np.array(range(ox_uc_pheno.shape[0])), ox_uc_pheno[\"diff_pred\"], c=\"#1b9e77\", label = \"WC\")\n",
    "ax1.errorbar(np.array(range(ox_uc_pheno.shape[0])), ox_uc_pheno[\"diff_pred\"], yerr=2*sd, ls='none', c=\"#1b9e77\")\n",
    "ax1.scatter(np.array(range(ox_uc_pheno.shape[0]))+.1, ox_uc_pheno[\"diff_pred_wcc\"], c = \"#d95f02\", label = \"WC + C\")\n",
    "ax1.errorbar(np.array(range(ox_uc_pheno.shape[0]))+.1, ox_uc_pheno[\"diff_pred_wcc\"], yerr=2*sd, ls='none', c = \"#d95f02\")\n",
    "#ax.set_xlabel(\"Phenotype\")\n",
    "ax1.set_ylabel(\"Observed  - Expected \")\n",
    "ax1.plot([0, ox_uc_pheno.shape[0]], [0, 0], c = \"black\")\n",
    "ax1.set_xticks(range(ox_uc_pheno.shape[0]))\n",
    "ax1.set_xticklabels([])\n",
    "#ax1.set_xticklabels([\" \" for i in range(ox_uc_pheno.shape[0])],  rotation=45)\n",
    "plt.setp(ax1.get_xticklabels(), visible=False)\n",
    "ax1.legend(loc=\"lower left\")\n",
    "\n",
    "ax2.text(-2.5, .9, \"C\", size=20, weight='bold')\n",
    "sns.barplot(x=\"phenotype2\", y=\"var_exp\", hue=\"Variance Explained\", data=plot_data, hue_order=[\"Genetics\", \"Confounding\"], palette=[\"#1b9e77\", \"#d95f02\"], ax = ax2)\n",
    "handles, labels = ax2.get_legend_handles_labels()\n",
    "ax2.legend(handles=handles, labels=labels)\n",
    "ax.set_xticks(range(ox_uc_pheno.shape[0]))\n",
    "ax2.set_xticklabels(labels=rep[\"phenotype2\"], rotation=75)\n",
    "ax2.set_xlabel(\"Phenotype\")\n",
    "ax2.set_ylabel(\"Variance Explained\")\n",
    "\n",
    "ax1.text(9, .2, \"B\", size=20, weight='bold')\n",
    "#ax3.text(-0.4, .7, string.ascii_uppercase[1], transform=ax.transAxes, size=20, weight='bold')\n",
    "ax3.scatter(\"power\", \"diff\", data=out, label=\"ZhongPrentice\", c=\"#7570b3\")\n",
    "ax3.scatter(\"power\", \"diff\", data=data, label=\"Zou\", c=\"#1b9e77\")\n",
    "ax3.legend(loc=\"lower right\")\n",
    "ax3.plot([0, 1], [0, 0], color=\"black\", linestyle=\"dotted\")\n",
    "ax3.set_xlabel(\"Power\")\n",
    "ax3.set_ylabel(\"Observed - Expected\")\n",
    "plt.tight_layout()\n",
    "plt.savefig(\"/u/home/j/jzou1115/project-zarlab/CFW/replication_pruned/output_phenotypes_pooled_2/Figure7.png\")\n"
   ]
  },
  {
   "cell_type": "code",
   "execution_count": null,
   "metadata": {},
   "outputs": [],
   "source": []
  }
 ],
 "metadata": {
  "kernelspec": {
   "display_name": "Python 3",
   "language": "python",
   "name": "python3"
  },
  "language_info": {
   "codemirror_mode": {
    "name": "ipython",
    "version": 3
   },
   "file_extension": ".py",
   "mimetype": "text/x-python",
   "name": "python",
   "nbconvert_exporter": "python",
   "pygments_lexer": "ipython3",
   "version": "3.7.6"
  }
 },
 "nbformat": 4,
 "nbformat_minor": 4
}
